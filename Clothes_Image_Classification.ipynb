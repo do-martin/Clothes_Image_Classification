{
 "cells": [
  {
   "cell_type": "markdown",
   "metadata": {},
   "source": [
    "## Import Modules"
   ]
  },
  {
   "cell_type": "code",
   "execution_count": 133,
   "metadata": {},
   "outputs": [
    {
     "name": "stdout",
     "output_type": "stream",
     "text": [
      "2.17.0\n"
     ]
    }
   ],
   "source": [
    "import tensorflow as tf\n",
    "import numpy as np\n",
    "import matplotlib.pyplot as plt\n",
    "\n",
    "print(tf.__version__)"
   ]
  },
  {
   "cell_type": "markdown",
   "metadata": {},
   "source": [
    "## Import the Fashion MNIST dataset"
   ]
  },
  {
   "cell_type": "code",
   "execution_count": 135,
   "metadata": {},
   "outputs": [],
   "source": [
    "fashion_mnist = tf.keras.datasets.fashion_mnist\n",
    "\n",
    "(train_images, train_labels), (test_images, test_labels) = fashion_mnist.load_data()"
   ]
  },
  {
   "cell_type": "markdown",
   "metadata": {},
   "source": [
    "## Create Class Names"
   ]
  },
  {
   "cell_type": "code",
   "execution_count": 136,
   "metadata": {},
   "outputs": [],
   "source": [
    "class_names = ['T-shirt/top', 'Trouser', 'Pullover', 'Dress', 'Coat',\n",
    "               'Sandal', 'Shirt', 'Sneaker', 'Bag', 'Ankle boot']"
   ]
  },
  {
   "cell_type": "markdown",
   "metadata": {},
   "source": [
    "## Explore the Data"
   ]
  },
  {
   "cell_type": "code",
   "execution_count": 137,
   "metadata": {},
   "outputs": [
    {
     "data": {
      "text/plain": [
       "(60000, 28, 28)"
      ]
     },
     "execution_count": 137,
     "metadata": {},
     "output_type": "execute_result"
    }
   ],
   "source": [
    "train_images.shape"
   ]
  },
  {
   "cell_type": "code",
   "execution_count": 140,
   "metadata": {},
   "outputs": [
    {
     "data": {
      "text/plain": [
       "60000"
      ]
     },
     "execution_count": 140,
     "metadata": {},
     "output_type": "execute_result"
    }
   ],
   "source": [
    "len(train_labels)"
   ]
  },
  {
   "cell_type": "code",
   "execution_count": 141,
   "metadata": {},
   "outputs": [
    {
     "data": {
      "text/plain": [
       "array([9, 0, 0, ..., 3, 0, 5], dtype=uint8)"
      ]
     },
     "execution_count": 141,
     "metadata": {},
     "output_type": "execute_result"
    }
   ],
   "source": [
    "train_labels"
   ]
  },
  {
   "cell_type": "code",
   "execution_count": 142,
   "metadata": {},
   "outputs": [
    {
     "data": {
      "text/plain": [
       "(10000, 28, 28)"
      ]
     },
     "execution_count": 142,
     "metadata": {},
     "output_type": "execute_result"
    }
   ],
   "source": [
    "test_images.shape"
   ]
  },
  {
   "cell_type": "code",
   "execution_count": 68,
   "metadata": {},
   "outputs": [
    {
     "data": {
      "text/plain": [
       "10000"
      ]
     },
     "execution_count": 68,
     "metadata": {},
     "output_type": "execute_result"
    }
   ],
   "source": [
    "len(test_labels)"
   ]
  },
  {
   "cell_type": "markdown",
   "metadata": {},
   "source": [
    "## Preprocess the Data"
   ]
  },
  {
   "cell_type": "code",
   "execution_count": 143,
   "metadata": {},
   "outputs": [
    {
     "data": {
      "image/png": "[encoded data removed]",
      "text/plain": [
       "<Figure size 640x480 with 2 Axes>"
      ]
     },
     "metadata": {},
     "output_type": "display_data"
    }
   ],
   "source": [
    "plt.figure()\n",
    "plt.imshow(train_images[0])\n",
    "plt.colorbar()\n",
    "plt.grid(False)\n",
    "plt.show()"
   ]
  },
  {
   "cell_type": "code",
   "execution_count": 145,
   "metadata": {},
   "outputs": [
    {
     "data": {
      "text/plain": [
       "array([[  0,   0,   0,   0,   0,   0,   0,   0,   0,   0,   0,   0,   0,\n",
       "          0,   0,   0,   0,   0,   0,   0,   0,   0,   0,   0,   0,   0,\n",
       "          0,   0],\n",
       "       [  0,   0,   0,   0,   0,   0,   0,   0,   0,   0,   0,   0,   0,\n",
       "          0,   0,   0,   0,   0,   0,   0,   0,   0,   0,   0,   0,   0,\n",
       "          0,   0],\n",
       "       [  0,   0,   0,   0,   0,   0,   0,   0,   0,   0,   0,   0,   0,\n",
       "          0,   0,   0,   0,   0,   0,   0,   0,   0,   0,   0,   0,   0,\n",
       "          0,   0],\n",
       "       [  0,   0,   0,   0,   0,   0,   0,   0,   0,   0,   0,   0,   1,\n",
       "          0,   0,  13,  73,   0,   0,   1,   4,   0,   0,   0,   0,   1,\n",
       "          1,   0],\n",
       "       [  0,   0,   0,   0,   0,   0,   0,   0,   0,   0,   0,   0,   3,\n",
       "          0,  36, 136, 127,  62,  54,   0,   0,   0,   1,   3,   4,   0,\n",
       "          0,   3],\n",
       "       [  0,   0,   0,   0,   0,   0,   0,   0,   0,   0,   0,   0,   6,\n",
       "          0, 102, 204, 176, 134, 144, 123,  23,   0,   0,   0,   0,  12,\n",
       "         10,   0],\n",
       "       [  0,   0,   0,   0,   0,   0,   0,   0,   0,   0,   0,   0,   0,\n",
       "          0, 155, 236, 207, 178, 107, 156, 161, 109,  64,  23,  77, 130,\n",
       "         72,  15],\n",
       "       [  0,   0,   0,   0,   0,   0,   0,   0,   0,   0,   0,   1,   0,\n",
       "         69, 207, 223, 218, 216, 216, 163, 127, 121, 122, 146, 141,  88,\n",
       "        172,  66],\n",
       "       [  0,   0,   0,   0,   0,   0,   0,   0,   0,   1,   1,   1,   0,\n",
       "        200, 232, 232, 233, 229, 223, 223, 215, 213, 164, 127, 123, 196,\n",
       "        229,   0],\n",
       "       [  0,   0,   0,   0,   0,   0,   0,   0,   0,   0,   0,   0,   0,\n",
       "        183, 225, 216, 223, 228, 235, 227, 224, 222, 224, 221, 223, 245,\n",
       "        173,   0],\n",
       "       [  0,   0,   0,   0,   0,   0,   0,   0,   0,   0,   0,   0,   0,\n",
       "        193, 228, 218, 213, 198, 180, 212, 210, 211, 213, 223, 220, 243,\n",
       "        202,   0],\n",
       "       [  0,   0,   0,   0,   0,   0,   0,   0,   0,   1,   3,   0,  12,\n",
       "        219, 220, 212, 218, 192, 169, 227, 208, 218, 224, 212, 226, 197,\n",
       "        209,  52],\n",
       "       [  0,   0,   0,   0,   0,   0,   0,   0,   0,   0,   6,   0,  99,\n",
       "        244, 222, 220, 218, 203, 198, 221, 215, 213, 222, 220, 245, 119,\n",
       "        167,  56],\n",
       "       [  0,   0,   0,   0,   0,   0,   0,   0,   0,   4,   0,   0,  55,\n",
       "        236, 228, 230, 228, 240, 232, 213, 218, 223, 234, 217, 217, 209,\n",
       "         92,   0],\n",
       "       [  0,   0,   1,   4,   6,   7,   2,   0,   0,   0,   0,   0, 237,\n",
       "        226, 217, 223, 222, 219, 222, 221, 216, 223, 229, 215, 218, 255,\n",
       "         77,   0],\n",
       "       [  0,   3,   0,   0,   0,   0,   0,   0,   0,  62, 145, 204, 228,\n",
       "        207, 213, 221, 218, 208, 211, 218, 224, 223, 219, 215, 224, 244,\n",
       "        159,   0],\n",
       "       [  0,   0,   0,   0,  18,  44,  82, 107, 189, 228, 220, 222, 217,\n",
       "        226, 200, 205, 211, 230, 224, 234, 176, 188, 250, 248, 233, 238,\n",
       "        215,   0],\n",
       "       [  0,  57, 187, 208, 224, 221, 224, 208, 204, 214, 208, 209, 200,\n",
       "        159, 245, 193, 206, 223, 255, 255, 221, 234, 221, 211, 220, 232,\n",
       "        246,   0],\n",
       "       [  3, 202, 228, 224, 221, 211, 211, 214, 205, 205, 205, 220, 240,\n",
       "         80, 150, 255, 229, 221, 188, 154, 191, 210, 204, 209, 222, 228,\n",
       "        225,   0],\n",
       "       [ 98, 233, 198, 210, 222, 229, 229, 234, 249, 220, 194, 215, 217,\n",
       "        241,  65,  73, 106, 117, 168, 219, 221, 215, 217, 223, 223, 224,\n",
       "        229,  29],\n",
       "       [ 75, 204, 212, 204, 193, 205, 211, 225, 216, 185, 197, 206, 198,\n",
       "        213, 240, 195, 227, 245, 239, 223, 218, 212, 209, 222, 220, 221,\n",
       "        230,  67],\n",
       "       [ 48, 203, 183, 194, 213, 197, 185, 190, 194, 192, 202, 214, 219,\n",
       "        221, 220, 236, 225, 216, 199, 206, 186, 181, 177, 172, 181, 205,\n",
       "        206, 115],\n",
       "       [  0, 122, 219, 193, 179, 171, 183, 196, 204, 210, 213, 207, 211,\n",
       "        210, 200, 196, 194, 191, 195, 191, 198, 192, 176, 156, 167, 177,\n",
       "        210,  92],\n",
       "       [  0,   0,  74, 189, 212, 191, 175, 172, 175, 181, 185, 188, 189,\n",
       "        188, 193, 198, 204, 209, 210, 210, 211, 188, 188, 194, 192, 216,\n",
       "        170,   0],\n",
       "       [  2,   0,   0,   0,  66, 200, 222, 237, 239, 242, 246, 243, 244,\n",
       "        221, 220, 193, 191, 179, 182, 182, 181, 176, 166, 168,  99,  58,\n",
       "          0,   0],\n",
       "       [  0,   0,   0,   0,   0,   0,   0,  40,  61,  44,  72,  41,  35,\n",
       "          0,   0,   0,   0,   0,   0,   0,   0,   0,   0,   0,   0,   0,\n",
       "          0,   0],\n",
       "       [  0,   0,   0,   0,   0,   0,   0,   0,   0,   0,   0,   0,   0,\n",
       "          0,   0,   0,   0,   0,   0,   0,   0,   0,   0,   0,   0,   0,\n",
       "          0,   0],\n",
       "       [  0,   0,   0,   0,   0,   0,   0,   0,   0,   0,   0,   0,   0,\n",
       "          0,   0,   0,   0,   0,   0,   0,   0,   0,   0,   0,   0,   0,\n",
       "          0,   0]], dtype=uint8)"
      ]
     },
     "execution_count": 145,
     "metadata": {},
     "output_type": "execute_result"
    }
   ],
   "source": [
    "train_images[0]"
   ]
  },
  {
   "cell_type": "code",
   "execution_count": 146,
   "metadata": {},
   "outputs": [],
   "source": [
    "train_images = train_images / 255.0\n",
    "\n",
    "test_images = test_images / 255.0"
   ]
  },
  {
   "cell_type": "code",
   "execution_count": 148,
   "metadata": {},
   "outputs": [
    {
     "data": {
      "text/plain": [
       "array([[0.        , 0.        , 0.        , 0.        , 0.        ,\n",
       "        0.        , 0.        , 0.        , 0.        , 0.        ,\n",
       "        0.        , 0.        , 0.        , 0.        , 0.        ,\n",
       "        0.        , 0.        , 0.        , 0.        , 0.        ,\n",
       "        0.        , 0.        , 0.        , 0.        , 0.        ,\n",
       "        0.        , 0.        , 0.        ],\n",
       "       [0.        , 0.        , 0.        , 0.        , 0.        ,\n",
       "        0.        , 0.        , 0.        , 0.        , 0.        ,\n",
       "        0.        , 0.        , 0.        , 0.        , 0.        ,\n",
       "        0.        , 0.        , 0.        , 0.        , 0.        ,\n",
       "        0.        , 0.        , 0.        , 0.        , 0.        ,\n",
       "        0.        , 0.        , 0.        ],\n",
       "       [0.        , 0.        , 0.        , 0.        , 0.        ,\n",
       "        0.        , 0.        , 0.        , 0.        , 0.        ,\n",
       "        0.        , 0.        , 0.        , 0.        , 0.        ,\n",
       "        0.        , 0.        , 0.        , 0.        , 0.        ,\n",
       "        0.        , 0.        , 0.        , 0.        , 0.        ,\n",
       "        0.        , 0.        , 0.        ],\n",
       "       [0.        , 0.        , 0.        , 0.        , 0.        ,\n",
       "        0.        , 0.        , 0.        , 0.        , 0.        ,\n",
       "        0.        , 0.        , 0.00392157, 0.        , 0.        ,\n",
       "        0.05098039, 0.28627451, 0.        , 0.        , 0.00392157,\n",
       "        0.01568627, 0.        , 0.        , 0.        , 0.        ,\n",
       "        0.00392157, 0.00392157, 0.        ],\n",
       "       [0.        , 0.        , 0.        , 0.        , 0.        ,\n",
       "        0.        , 0.        , 0.        , 0.        , 0.        ,\n",
       "        0.        , 0.        , 0.01176471, 0.        , 0.14117647,\n",
       "        0.53333333, 0.49803922, 0.24313725, 0.21176471, 0.        ,\n",
       "        0.        , 0.        , 0.00392157, 0.01176471, 0.01568627,\n",
       "        0.        , 0.        , 0.01176471],\n",
       "       [0.        , 0.        , 0.        , 0.        , 0.        ,\n",
       "        0.        , 0.        , 0.        , 0.        , 0.        ,\n",
       "        0.        , 0.        , 0.02352941, 0.        , 0.4       ,\n",
       "        0.8       , 0.69019608, 0.5254902 , 0.56470588, 0.48235294,\n",
       "        0.09019608, 0.        , 0.        , 0.        , 0.        ,\n",
       "        0.04705882, 0.03921569, 0.        ],\n",
       "       [0.        , 0.        , 0.        , 0.        , 0.        ,\n",
       "        0.        , 0.        , 0.        , 0.        , 0.        ,\n",
       "        0.        , 0.        , 0.        , 0.        , 0.60784314,\n",
       "        0.9254902 , 0.81176471, 0.69803922, 0.41960784, 0.61176471,\n",
       "        0.63137255, 0.42745098, 0.25098039, 0.09019608, 0.30196078,\n",
       "        0.50980392, 0.28235294, 0.05882353],\n",
       "       [0.        , 0.        , 0.        , 0.        , 0.        ,\n",
       "        0.        , 0.        , 0.        , 0.        , 0.        ,\n",
       "        0.        , 0.00392157, 0.        , 0.27058824, 0.81176471,\n",
       "        0.8745098 , 0.85490196, 0.84705882, 0.84705882, 0.63921569,\n",
       "        0.49803922, 0.4745098 , 0.47843137, 0.57254902, 0.55294118,\n",
       "        0.34509804, 0.6745098 , 0.25882353],\n",
       "       [0.        , 0.        , 0.        , 0.        , 0.        ,\n",
       "        0.        , 0.        , 0.        , 0.        , 0.00392157,\n",
       "        0.00392157, 0.00392157, 0.        , 0.78431373, 0.90980392,\n",
       "        0.90980392, 0.91372549, 0.89803922, 0.8745098 , 0.8745098 ,\n",
       "        0.84313725, 0.83529412, 0.64313725, 0.49803922, 0.48235294,\n",
       "        0.76862745, 0.89803922, 0.        ],\n",
       "       [0.        , 0.        , 0.        , 0.        , 0.        ,\n",
       "        0.        , 0.        , 0.        , 0.        , 0.        ,\n",
       "        0.        , 0.        , 0.        , 0.71764706, 0.88235294,\n",
       "        0.84705882, 0.8745098 , 0.89411765, 0.92156863, 0.89019608,\n",
       "        0.87843137, 0.87058824, 0.87843137, 0.86666667, 0.8745098 ,\n",
       "        0.96078431, 0.67843137, 0.        ],\n",
       "       [0.        , 0.        , 0.        , 0.        , 0.        ,\n",
       "        0.        , 0.        , 0.        , 0.        , 0.        ,\n",
       "        0.        , 0.        , 0.        , 0.75686275, 0.89411765,\n",
       "        0.85490196, 0.83529412, 0.77647059, 0.70588235, 0.83137255,\n",
       "        0.82352941, 0.82745098, 0.83529412, 0.8745098 , 0.8627451 ,\n",
       "        0.95294118, 0.79215686, 0.        ],\n",
       "       [0.        , 0.        , 0.        , 0.        , 0.        ,\n",
       "        0.        , 0.        , 0.        , 0.        , 0.00392157,\n",
       "        0.01176471, 0.        , 0.04705882, 0.85882353, 0.8627451 ,\n",
       "        0.83137255, 0.85490196, 0.75294118, 0.6627451 , 0.89019608,\n",
       "        0.81568627, 0.85490196, 0.87843137, 0.83137255, 0.88627451,\n",
       "        0.77254902, 0.81960784, 0.20392157],\n",
       "       [0.        , 0.        , 0.        , 0.        , 0.        ,\n",
       "        0.        , 0.        , 0.        , 0.        , 0.        ,\n",
       "        0.02352941, 0.        , 0.38823529, 0.95686275, 0.87058824,\n",
       "        0.8627451 , 0.85490196, 0.79607843, 0.77647059, 0.86666667,\n",
       "        0.84313725, 0.83529412, 0.87058824, 0.8627451 , 0.96078431,\n",
       "        0.46666667, 0.65490196, 0.21960784],\n",
       "       [0.        , 0.        , 0.        , 0.        , 0.        ,\n",
       "        0.        , 0.        , 0.        , 0.        , 0.01568627,\n",
       "        0.        , 0.        , 0.21568627, 0.9254902 , 0.89411765,\n",
       "        0.90196078, 0.89411765, 0.94117647, 0.90980392, 0.83529412,\n",
       "        0.85490196, 0.8745098 , 0.91764706, 0.85098039, 0.85098039,\n",
       "        0.81960784, 0.36078431, 0.        ],\n",
       "       [0.        , 0.        , 0.00392157, 0.01568627, 0.02352941,\n",
       "        0.02745098, 0.00784314, 0.        , 0.        , 0.        ,\n",
       "        0.        , 0.        , 0.92941176, 0.88627451, 0.85098039,\n",
       "        0.8745098 , 0.87058824, 0.85882353, 0.87058824, 0.86666667,\n",
       "        0.84705882, 0.8745098 , 0.89803922, 0.84313725, 0.85490196,\n",
       "        1.        , 0.30196078, 0.        ],\n",
       "       [0.        , 0.01176471, 0.        , 0.        , 0.        ,\n",
       "        0.        , 0.        , 0.        , 0.        , 0.24313725,\n",
       "        0.56862745, 0.8       , 0.89411765, 0.81176471, 0.83529412,\n",
       "        0.86666667, 0.85490196, 0.81568627, 0.82745098, 0.85490196,\n",
       "        0.87843137, 0.8745098 , 0.85882353, 0.84313725, 0.87843137,\n",
       "        0.95686275, 0.62352941, 0.        ],\n",
       "       [0.        , 0.        , 0.        , 0.        , 0.07058824,\n",
       "        0.17254902, 0.32156863, 0.41960784, 0.74117647, 0.89411765,\n",
       "        0.8627451 , 0.87058824, 0.85098039, 0.88627451, 0.78431373,\n",
       "        0.80392157, 0.82745098, 0.90196078, 0.87843137, 0.91764706,\n",
       "        0.69019608, 0.7372549 , 0.98039216, 0.97254902, 0.91372549,\n",
       "        0.93333333, 0.84313725, 0.        ],\n",
       "       [0.        , 0.22352941, 0.73333333, 0.81568627, 0.87843137,\n",
       "        0.86666667, 0.87843137, 0.81568627, 0.8       , 0.83921569,\n",
       "        0.81568627, 0.81960784, 0.78431373, 0.62352941, 0.96078431,\n",
       "        0.75686275, 0.80784314, 0.8745098 , 1.        , 1.        ,\n",
       "        0.86666667, 0.91764706, 0.86666667, 0.82745098, 0.8627451 ,\n",
       "        0.90980392, 0.96470588, 0.        ],\n",
       "       [0.01176471, 0.79215686, 0.89411765, 0.87843137, 0.86666667,\n",
       "        0.82745098, 0.82745098, 0.83921569, 0.80392157, 0.80392157,\n",
       "        0.80392157, 0.8627451 , 0.94117647, 0.31372549, 0.58823529,\n",
       "        1.        , 0.89803922, 0.86666667, 0.7372549 , 0.60392157,\n",
       "        0.74901961, 0.82352941, 0.8       , 0.81960784, 0.87058824,\n",
       "        0.89411765, 0.88235294, 0.        ],\n",
       "       [0.38431373, 0.91372549, 0.77647059, 0.82352941, 0.87058824,\n",
       "        0.89803922, 0.89803922, 0.91764706, 0.97647059, 0.8627451 ,\n",
       "        0.76078431, 0.84313725, 0.85098039, 0.94509804, 0.25490196,\n",
       "        0.28627451, 0.41568627, 0.45882353, 0.65882353, 0.85882353,\n",
       "        0.86666667, 0.84313725, 0.85098039, 0.8745098 , 0.8745098 ,\n",
       "        0.87843137, 0.89803922, 0.11372549],\n",
       "       [0.29411765, 0.8       , 0.83137255, 0.8       , 0.75686275,\n",
       "        0.80392157, 0.82745098, 0.88235294, 0.84705882, 0.7254902 ,\n",
       "        0.77254902, 0.80784314, 0.77647059, 0.83529412, 0.94117647,\n",
       "        0.76470588, 0.89019608, 0.96078431, 0.9372549 , 0.8745098 ,\n",
       "        0.85490196, 0.83137255, 0.81960784, 0.87058824, 0.8627451 ,\n",
       "        0.86666667, 0.90196078, 0.2627451 ],\n",
       "       [0.18823529, 0.79607843, 0.71764706, 0.76078431, 0.83529412,\n",
       "        0.77254902, 0.7254902 , 0.74509804, 0.76078431, 0.75294118,\n",
       "        0.79215686, 0.83921569, 0.85882353, 0.86666667, 0.8627451 ,\n",
       "        0.9254902 , 0.88235294, 0.84705882, 0.78039216, 0.80784314,\n",
       "        0.72941176, 0.70980392, 0.69411765, 0.6745098 , 0.70980392,\n",
       "        0.80392157, 0.80784314, 0.45098039],\n",
       "       [0.        , 0.47843137, 0.85882353, 0.75686275, 0.70196078,\n",
       "        0.67058824, 0.71764706, 0.76862745, 0.8       , 0.82352941,\n",
       "        0.83529412, 0.81176471, 0.82745098, 0.82352941, 0.78431373,\n",
       "        0.76862745, 0.76078431, 0.74901961, 0.76470588, 0.74901961,\n",
       "        0.77647059, 0.75294118, 0.69019608, 0.61176471, 0.65490196,\n",
       "        0.69411765, 0.82352941, 0.36078431],\n",
       "       [0.        , 0.        , 0.29019608, 0.74117647, 0.83137255,\n",
       "        0.74901961, 0.68627451, 0.6745098 , 0.68627451, 0.70980392,\n",
       "        0.7254902 , 0.7372549 , 0.74117647, 0.7372549 , 0.75686275,\n",
       "        0.77647059, 0.8       , 0.81960784, 0.82352941, 0.82352941,\n",
       "        0.82745098, 0.7372549 , 0.7372549 , 0.76078431, 0.75294118,\n",
       "        0.84705882, 0.66666667, 0.        ],\n",
       "       [0.00784314, 0.        , 0.        , 0.        , 0.25882353,\n",
       "        0.78431373, 0.87058824, 0.92941176, 0.9372549 , 0.94901961,\n",
       "        0.96470588, 0.95294118, 0.95686275, 0.86666667, 0.8627451 ,\n",
       "        0.75686275, 0.74901961, 0.70196078, 0.71372549, 0.71372549,\n",
       "        0.70980392, 0.69019608, 0.65098039, 0.65882353, 0.38823529,\n",
       "        0.22745098, 0.        , 0.        ],\n",
       "       [0.        , 0.        , 0.        , 0.        , 0.        ,\n",
       "        0.        , 0.        , 0.15686275, 0.23921569, 0.17254902,\n",
       "        0.28235294, 0.16078431, 0.1372549 , 0.        , 0.        ,\n",
       "        0.        , 0.        , 0.        , 0.        , 0.        ,\n",
       "        0.        , 0.        , 0.        , 0.        , 0.        ,\n",
       "        0.        , 0.        , 0.        ],\n",
       "       [0.        , 0.        , 0.        , 0.        , 0.        ,\n",
       "        0.        , 0.        , 0.        , 0.        , 0.        ,\n",
       "        0.        , 0.        , 0.        , 0.        , 0.        ,\n",
       "        0.        , 0.        , 0.        , 0.        , 0.        ,\n",
       "        0.        , 0.        , 0.        , 0.        , 0.        ,\n",
       "        0.        , 0.        , 0.        ],\n",
       "       [0.        , 0.        , 0.        , 0.        , 0.        ,\n",
       "        0.        , 0.        , 0.        , 0.        , 0.        ,\n",
       "        0.        , 0.        , 0.        , 0.        , 0.        ,\n",
       "        0.        , 0.        , 0.        , 0.        , 0.        ,\n",
       "        0.        , 0.        , 0.        , 0.        , 0.        ,\n",
       "        0.        , 0.        , 0.        ]])"
      ]
     },
     "execution_count": 148,
     "metadata": {},
     "output_type": "execute_result"
    }
   ],
   "source": [
    "train_images[0]"
   ]
  },
  {
   "cell_type": "code",
   "execution_count": 149,
   "metadata": {},
   "outputs": [
    {
     "name": "stdout",
     "output_type": "stream",
     "text": [
      "(60000, 28, 28)\n",
      "(10000, 28, 28)\n"
     ]
    }
   ],
   "source": [
    "print(train_images.shape)\n",
    "print(test_images.shape)"
   ]
  },
  {
   "cell_type": "code",
   "execution_count": 150,
   "metadata": {},
   "outputs": [],
   "source": [
    "train_images = np.expand_dims(train_images, axis=-1)\n",
    "test_images = np.expand_dims(test_images, axis=-1)"
   ]
  },
  {
   "cell_type": "code",
   "execution_count": 151,
   "metadata": {},
   "outputs": [
    {
     "name": "stdout",
     "output_type": "stream",
     "text": [
      "(60000, 28, 28, 1)\n",
      "(10000, 28, 28, 1)\n"
     ]
    }
   ],
   "source": [
    "print(train_images.shape)\n",
    "print(test_images.shape)"
   ]
  },
  {
   "cell_type": "code",
   "execution_count": 152,
   "metadata": {},
   "outputs": [
    {
     "data": {
      "image/png": "[encoded data removed]",
      "text/plain": [
       "<Figure size 1000x1000 with 25 Axes>"
      ]
     },
     "metadata": {},
     "output_type": "display_data"
    }
   ],
   "source": [
    "plt.figure(figsize=(10,10))\n",
    "for i in range(25):\n",
    "    plt.subplot(5,5,i+1)\n",
    "    plt.xticks([])\n",
    "    plt.yticks([])\n",
    "    plt.grid(False)\n",
    "    plt.imshow(train_images[i], cmap=plt.cm.binary)\n",
    "    plt.xlabel(class_names[train_labels[i]])\n",
    "plt.show()           "
   ]
  },
  {
   "cell_type": "markdown",
   "metadata": {},
   "source": [
    "## Build the Model"
   ]
  },
  {
   "cell_type": "markdown",
   "metadata": {},
   "source": [
    "### Set Up the Layers"
   ]
  },
  {
   "cell_type": "code",
   "execution_count": 153,
   "metadata": {},
   "outputs": [
    {
     "name": "stderr",
     "output_type": "stream",
     "text": [
      "g:\\Clothes_Image_Classification\\env\\Lib\\site-packages\\keras\\src\\layers\\reshaping\\flatten.py:37: UserWarning: Do not pass an `input_shape`/`input_dim` argument to a layer. When using Sequential models, prefer using an `Input(shape)` object as the first layer in the model instead.\n",
      "  super().__init__(**kwargs)\n"
     ]
    }
   ],
   "source": [
    "# model = tf.keras.Sequential([\n",
    "#     tf.keras.layers.Flatten(input_shape=(28, 28)),\n",
    "#     tf.keras.layers.Dense(128, activation='relu'),\n",
    "#     tf.keras.layers.Dense(10)\n",
    "# ])\n",
    "model = tf.keras.Sequential([\n",
    "    tf.keras.layers.Flatten(input_shape=(28, 28, 1)),\n",
    "    tf.keras.layers.Dense(128, activation='relu'),\n",
    "    tf.keras.layers.Dense(10)\n",
    "])"
   ]
  },
  {
   "cell_type": "markdown",
   "metadata": {},
   "source": [
    "### Compile the Model"
   ]
  },
  {
   "cell_type": "code",
   "execution_count": 154,
   "metadata": {},
   "outputs": [],
   "source": [
    "model.compile(optimizer='adam',\n",
    "              loss=tf.keras.losses.SparseCategoricalCrossentropy(from_logits=True),\n",
    "              metrics=['accuracy'])"
   ]
  },
  {
   "cell_type": "markdown",
   "metadata": {},
   "source": [
    "## Train the Model"
   ]
  },
  {
   "cell_type": "markdown",
   "metadata": {},
   "source": [
    "### Feed the Model"
   ]
  },
  {
   "cell_type": "code",
   "execution_count": 155,
   "metadata": {},
   "outputs": [
    {
     "name": "stdout",
     "output_type": "stream",
     "text": [
      "Epoch 1/10\n",
      "\u001b[1m1875/1875\u001b[0m \u001b[32m━━━━━━━━━━━━━━━━━━━━\u001b[0m\u001b[37m\u001b[0m \u001b[1m6s\u001b[0m 2ms/step - accuracy: 0.7839 - loss: 0.6202\n",
      "Epoch 2/10\n",
      "\u001b[1m1875/1875\u001b[0m \u001b[32m━━━━━━━━━━━━━━━━━━━━\u001b[0m\u001b[37m\u001b[0m \u001b[1m5s\u001b[0m 3ms/step - accuracy: 0.8624 - loss: 0.3795\n",
      "Epoch 3/10\n",
      "\u001b[1m1875/1875\u001b[0m \u001b[32m━━━━━━━━━━━━━━━━━━━━\u001b[0m\u001b[37m\u001b[0m \u001b[1m6s\u001b[0m 3ms/step - accuracy: 0.8740 - loss: 0.3420\n",
      "Epoch 4/10\n",
      "\u001b[1m1875/1875\u001b[0m \u001b[32m━━━━━━━━━━━━━━━━━━━━\u001b[0m\u001b[37m\u001b[0m \u001b[1m6s\u001b[0m 3ms/step - accuracy: 0.8874 - loss: 0.3102\n",
      "Epoch 5/10\n",
      "\u001b[1m1875/1875\u001b[0m \u001b[32m━━━━━━━━━━━━━━━━━━━━\u001b[0m\u001b[37m\u001b[0m \u001b[1m5s\u001b[0m 3ms/step - accuracy: 0.8895 - loss: 0.2974\n",
      "Epoch 6/10\n",
      "\u001b[1m1875/1875\u001b[0m \u001b[32m━━━━━━━━━━━━━━━━━━━━\u001b[0m\u001b[37m\u001b[0m \u001b[1m6s\u001b[0m 3ms/step - accuracy: 0.8978 - loss: 0.2787\n",
      "Epoch 7/10\n",
      "\u001b[1m1875/1875\u001b[0m \u001b[32m━━━━━━━━━━━━━━━━━━━━\u001b[0m\u001b[37m\u001b[0m \u001b[1m6s\u001b[0m 3ms/step - accuracy: 0.8984 - loss: 0.2711\n",
      "Epoch 8/10\n",
      "\u001b[1m1875/1875\u001b[0m \u001b[32m━━━━━━━━━━━━━━━━━━━━\u001b[0m\u001b[37m\u001b[0m \u001b[1m6s\u001b[0m 3ms/step - accuracy: 0.9047 - loss: 0.2578\n",
      "Epoch 9/10\n",
      "\u001b[1m1875/1875\u001b[0m \u001b[32m━━━━━━━━━━━━━━━━━━━━\u001b[0m\u001b[37m\u001b[0m \u001b[1m5s\u001b[0m 3ms/step - accuracy: 0.9095 - loss: 0.2478\n",
      "Epoch 10/10\n",
      "\u001b[1m1875/1875\u001b[0m \u001b[32m━━━━━━━━━━━━━━━━━━━━\u001b[0m\u001b[37m\u001b[0m \u001b[1m6s\u001b[0m 3ms/step - accuracy: 0.9101 - loss: 0.2398\n"
     ]
    },
    {
     "data": {
      "text/plain": [
       "<keras.src.callbacks.history.History at 0x26f37405b90>"
      ]
     },
     "execution_count": 155,
     "metadata": {},
     "output_type": "execute_result"
    }
   ],
   "source": [
    "model.fit(train_images, train_labels, epochs=10)"
   ]
  },
  {
   "cell_type": "markdown",
   "metadata": {},
   "source": [
    "### Evaluate Accuracy"
   ]
  },
  {
   "cell_type": "code",
   "execution_count": 157,
   "metadata": {},
   "outputs": [
    {
     "name": "stdout",
     "output_type": "stream",
     "text": [
      "313/313 - 1s - 2ms/step - accuracy: 0.8749 - loss: 0.3502\n",
      "\n",
      "Test accuracy:  0.8748999834060669\n"
     ]
    }
   ],
   "source": [
    "test_loss, test_acc = model.evaluate(test_images, test_labels, verbose=2)\n",
    "\n",
    "print('\\nTest accuracy: ', test_acc)"
   ]
  },
  {
   "cell_type": "markdown",
   "metadata": {},
   "source": [
    "### Make Predictions"
   ]
  },
  {
   "cell_type": "code",
   "execution_count": 158,
   "metadata": {},
   "outputs": [],
   "source": [
    "probability_model = tf.keras.Sequential([model,\n",
    "                                         tf.keras.layers.Softmax()])"
   ]
  },
  {
   "cell_type": "code",
   "execution_count": 159,
   "metadata": {},
   "outputs": [
    {
     "name": "stdout",
     "output_type": "stream",
     "text": [
      "WARNING:tensorflow:6 out of the last 319 calls to <function TensorFlowTrainer.make_predict_function.<locals>.one_step_on_data_distributed at 0x0000026F34F5A160> triggered tf.function retracing. Tracing is expensive and the excessive number of tracings could be due to (1) creating @tf.function repeatedly in a loop, (2) passing tensors with different shapes, (3) passing Python objects instead of tensors. For (1), please define your @tf.function outside of the loop. For (2), @tf.function has reduce_retracing=True option that can avoid unnecessary retracing. For (3), please refer to https://www.tensorflow.org/guide/function#controlling_retracing and https://www.tensorflow.org/api_docs/python/tf/function for  more details.\n",
      "\u001b[1m313/313\u001b[0m \u001b[32m━━━━━━━━━━━━━━━━━━━━\u001b[0m\u001b[37m\u001b[0m \u001b[1m1s\u001b[0m 2ms/step\n"
     ]
    }
   ],
   "source": [
    "predictions = probability_model.predict(test_images)"
   ]
  },
  {
   "cell_type": "code",
   "execution_count": 160,
   "metadata": {},
   "outputs": [
    {
     "data": {
      "text/plain": [
       "array([1.8033637e-07, 1.4734741e-08, 3.1257411e-08, 1.1004614e-09,\n",
       "       4.9965143e-07, 8.5227215e-04, 2.6562972e-07, 4.3623857e-02,\n",
       "       8.6845910e-07, 9.5552200e-01], dtype=float32)"
      ]
     },
     "execution_count": 160,
     "metadata": {},
     "output_type": "execute_result"
    }
   ],
   "source": [
    "predictions[0]"
   ]
  },
  {
   "cell_type": "code",
   "execution_count": 161,
   "metadata": {},
   "outputs": [
    {
     "data": {
      "text/plain": [
       "9"
      ]
     },
     "execution_count": 161,
     "metadata": {},
     "output_type": "execute_result"
    }
   ],
   "source": [
    "np.argmax(predictions[0])"
   ]
  },
  {
   "cell_type": "code",
   "execution_count": 162,
   "metadata": {},
   "outputs": [
    {
     "data": {
      "text/plain": [
       "9"
      ]
     },
     "execution_count": 162,
     "metadata": {},
     "output_type": "execute_result"
    }
   ],
   "source": [
    "test_labels[0]"
   ]
  },
  {
   "cell_type": "code",
   "execution_count": 163,
   "metadata": {},
   "outputs": [],
   "source": [
    "def plot_image(i, predictions_array, true_label, img):\n",
    "    true_label, img = true_label[i], img[i]\n",
    "    plt.grid(False)\n",
    "    plt.xticks([])\n",
    "    plt.yticks([])\n",
    "\n",
    "    plt.imshow(img, cmap=plt.cm.binary)\n",
    "\n",
    "    predicted_label = np.argmax(predictions_array)\n",
    "    if predicted_label == true_label:\n",
    "        color = 'blue'\n",
    "    else:\n",
    "        color = 'red'\n",
    "    \n",
    "    plt.xlabel(\"{} {:2.0f}% ({})\".format(class_names[predicted_label],\n",
    "                                         100*np.max(predictions_array),\n",
    "                                         class_names[true_label]),\n",
    "                                         color=color)\n",
    "    \n",
    "def plot_value_array(i, predictions_array, true_label):\n",
    "    true_label = true_label[i]\n",
    "    plt.grid(False)\n",
    "    plt.xticks(range(10))\n",
    "    plt.yticks([])\n",
    "    thisplot = plt.bar(range(10), predictions_array, color=\"#777777\")\n",
    "    plt.ylim([0, 1])\n",
    "    predicted_label = np.argmax(predictions_array)\n",
    "\n",
    "    thisplot[predicted_label].set_color('red')\n",
    "    thisplot[true_label].set_color('blue')"
   ]
  },
  {
   "cell_type": "markdown",
   "metadata": {},
   "source": [
    "### Verify Predictions"
   ]
  },
  {
   "cell_type": "code",
   "execution_count": 164,
   "metadata": {},
   "outputs": [
    {
     "data": {
      "image/png": "[encoded data removed]",
      "text/plain": [
       "<Figure size 600x300 with 2 Axes>"
      ]
     },
     "metadata": {},
     "output_type": "display_data"
    }
   ],
   "source": [
    "i = 0\n",
    "plt.figure(figsize=(6,3))\n",
    "plt.subplot(1,2,1)\n",
    "plot_image(i, predictions[i], test_labels, test_images)\n",
    "plt.subplot(1,2,2)\n",
    "plot_value_array(i, predictions[i], test_labels)\n",
    "plt.show()"
   ]
  },
  {
   "cell_type": "code",
   "execution_count": 165,
   "metadata": {},
   "outputs": [
    {
     "data": {
      "image/png": "[encoded data removed]",
      "text/plain": [
       "<Figure size 600x300 with 2 Axes>"
      ]
     },
     "metadata": {},
     "output_type": "display_data"
    }
   ],
   "source": [
    "i = 12\n",
    "plt.figure(figsize=(6,3))\n",
    "plt.subplot(1,2,1)\n",
    "plot_image(i, predictions[i], test_labels, test_images)\n",
    "plt.subplot(1,2,2)\n",
    "plot_value_array(i, predictions[i], test_labels)\n",
    "plt.show()"
   ]
  },
  {
   "cell_type": "code",
   "execution_count": 166,
   "metadata": {},
   "outputs": [
    {
     "data": {
      "image/png": "[encoded data removed]",
      "text/plain": [
       "<Figure size 1200x1000 with 30 Axes>"
      ]
     },
     "metadata": {},
     "output_type": "display_data"
    }
   ],
   "source": [
    "# Plot the first X test images, their predicted labels, and the true labels.\n",
    "# Color correct predictions in blue and incorrect predictions in red.\n",
    "num_rows = 5\n",
    "num_cols = 3\n",
    "num_images = num_rows*num_cols\n",
    "plt.figure(figsize=(2*2*num_cols, 2*num_rows))\n",
    "for i in range(num_images):\n",
    "    plt.subplot(num_rows, 2*num_cols, 2*i+1)\n",
    "    plot_image(i, predictions[i], test_labels, test_images)\n",
    "    plt.subplot(num_rows, 2*num_cols, 2*i+2)\n",
    "    plot_value_array(i, predictions[i], test_labels)\n",
    "plt.tight_layout()\n",
    "plt.show()"
   ]
  },
  {
   "cell_type": "markdown",
   "metadata": {},
   "source": [
    "### Use the Trained Model"
   ]
  },
  {
   "cell_type": "code",
   "execution_count": 167,
   "metadata": {},
   "outputs": [
    {
     "name": "stdout",
     "output_type": "stream",
     "text": [
      "(28, 28, 1)\n"
     ]
    }
   ],
   "source": [
    "# Grab an image from the test dataset.\n",
    "img = test_images[1]\n",
    "\n",
    "print(img.shape)"
   ]
  },
  {
   "cell_type": "code",
   "execution_count": 168,
   "metadata": {},
   "outputs": [
    {
     "name": "stdout",
     "output_type": "stream",
     "text": [
      "(1, 28, 28, 1)\n"
     ]
    }
   ],
   "source": [
    "# Add the image to a batch where it's the only member.\n",
    "img = (np.expand_dims(img,0))\n",
    "\n",
    "print(img.shape)"
   ]
  },
  {
   "cell_type": "code",
   "execution_count": 169,
   "metadata": {},
   "outputs": [
    {
     "name": "stdout",
     "output_type": "stream",
     "text": [
      "\u001b[1m1/1\u001b[0m \u001b[32m━━━━━━━━━━━━━━━━━━━━\u001b[0m\u001b[37m\u001b[0m \u001b[1m0s\u001b[0m 70ms/step\n",
      "[[5.0212999e-05 6.1423834e-14 9.9760544e-01 2.9076756e-12 2.2158765e-03\n",
      "  2.3802397e-15 1.2842225e-04 5.8816409e-18 6.0360128e-10 2.1733248e-16]]\n"
     ]
    }
   ],
   "source": [
    "predictions_single = probability_model.predict(img)\n",
    "\n",
    "print(predictions_single)"
   ]
  },
  {
   "cell_type": "code",
   "execution_count": 170,
   "metadata": {},
   "outputs": [
    {
     "data": {
      "image/png": "[encoded data removed]",
      "text/plain": [
       "<Figure size 640x480 with 1 Axes>"
      ]
     },
     "metadata": {},
     "output_type": "display_data"
    }
   ],
   "source": [
    "plot_value_array(1, predictions_single[0], test_labels)\n",
    "_ = plt.xticks(range(10), class_names, rotation=45)\n",
    "plt.show()"
   ]
  },
  {
   "cell_type": "code",
   "execution_count": 171,
   "metadata": {},
   "outputs": [
    {
     "data": {
      "text/plain": [
       "2"
      ]
     },
     "execution_count": 171,
     "metadata": {},
     "output_type": "execute_result"
    }
   ],
   "source": [
    "np.argmax(predictions_single[0])"
   ]
  },
  {
   "cell_type": "markdown",
   "metadata": {},
   "source": [
    "## Save Model"
   ]
  },
  {
   "cell_type": "code",
   "execution_count": 172,
   "metadata": {},
   "outputs": [
    {
     "data": {
      "text/html": [
       "<pre style=\"white-space:pre;overflow-x:auto;line-height:normal;font-family:Menlo,'DejaVu Sans Mono',consolas,'Courier New',monospace\"><span style=\"font-weight: bold\">Model: \"sequential_1\"</span>\n",
       "</pre>\n"
      ],
      "text/plain": [
       "\u001b[1mModel: \"sequential_1\"\u001b[0m\n"
      ]
     },
     "metadata": {},
     "output_type": "display_data"
    },
    {
     "data": {
      "text/html": [
       "<pre style=\"white-space:pre;overflow-x:auto;line-height:normal;font-family:Menlo,'DejaVu Sans Mono',consolas,'Courier New',monospace\">┏━━━━━━━━━━━━━━━━━━━━━━━━━━━━━━━━━┳━━━━━━━━━━━━━━━━━━━━━━━━┳━━━━━━━━━━━━━━━┓\n",
       "┃<span style=\"font-weight: bold\"> Layer (type)                    </span>┃<span style=\"font-weight: bold\"> Output Shape           </span>┃<span style=\"font-weight: bold\">       Param # </span>┃\n",
       "┡━━━━━━━━━━━━━━━━━━━━━━━━━━━━━━━━━╇━━━━━━━━━━━━━━━━━━━━━━━━╇━━━━━━━━━━━━━━━┩\n",
       "│ sequential (<span style=\"color: #0087ff; text-decoration-color: #0087ff\">Sequential</span>)         │ (<span style=\"color: #00d7ff; text-decoration-color: #00d7ff\">None</span>, <span style=\"color: #00af00; text-decoration-color: #00af00\">10</span>)             │       <span style=\"color: #00af00; text-decoration-color: #00af00\">101,770</span> │\n",
       "├─────────────────────────────────┼────────────────────────┼───────────────┤\n",
       "│ softmax (<span style=\"color: #0087ff; text-decoration-color: #0087ff\">Softmax</span>)               │ (<span style=\"color: #00d7ff; text-decoration-color: #00d7ff\">None</span>, <span style=\"color: #00af00; text-decoration-color: #00af00\">10</span>)             │             <span style=\"color: #00af00; text-decoration-color: #00af00\">0</span> │\n",
       "└─────────────────────────────────┴────────────────────────┴───────────────┘\n",
       "</pre>\n"
      ],
      "text/plain": [
       "┏━━━━━━━━━━━━━━━━━━━━━━━━━━━━━━━━━┳━━━━━━━━━━━━━━━━━━━━━━━━┳━━━━━━━━━━━━━━━┓\n",
       "┃\u001b[1m \u001b[0m\u001b[1mLayer (type)                   \u001b[0m\u001b[1m \u001b[0m┃\u001b[1m \u001b[0m\u001b[1mOutput Shape          \u001b[0m\u001b[1m \u001b[0m┃\u001b[1m \u001b[0m\u001b[1m      Param #\u001b[0m\u001b[1m \u001b[0m┃\n",
       "┡━━━━━━━━━━━━━━━━━━━━━━━━━━━━━━━━━╇━━━━━━━━━━━━━━━━━━━━━━━━╇━━━━━━━━━━━━━━━┩\n",
       "│ sequential (\u001b[38;5;33mSequential\u001b[0m)         │ (\u001b[38;5;45mNone\u001b[0m, \u001b[38;5;34m10\u001b[0m)             │       \u001b[38;5;34m101,770\u001b[0m │\n",
       "├─────────────────────────────────┼────────────────────────┼───────────────┤\n",
       "│ softmax (\u001b[38;5;33mSoftmax\u001b[0m)               │ (\u001b[38;5;45mNone\u001b[0m, \u001b[38;5;34m10\u001b[0m)             │             \u001b[38;5;34m0\u001b[0m │\n",
       "└─────────────────────────────────┴────────────────────────┴───────────────┘\n"
      ]
     },
     "metadata": {},
     "output_type": "display_data"
    },
    {
     "data": {
      "text/html": [
       "<pre style=\"white-space:pre;overflow-x:auto;line-height:normal;font-family:Menlo,'DejaVu Sans Mono',consolas,'Courier New',monospace\"><span style=\"font-weight: bold\"> Total params: </span><span style=\"color: #00af00; text-decoration-color: #00af00\">101,770</span> (397.54 KB)\n",
       "</pre>\n"
      ],
      "text/plain": [
       "\u001b[1m Total params: \u001b[0m\u001b[38;5;34m101,770\u001b[0m (397.54 KB)\n"
      ]
     },
     "metadata": {},
     "output_type": "display_data"
    },
    {
     "data": {
      "text/html": [
       "<pre style=\"white-space:pre;overflow-x:auto;line-height:normal;font-family:Menlo,'DejaVu Sans Mono',consolas,'Courier New',monospace\"><span style=\"font-weight: bold\"> Trainable params: </span><span style=\"color: #00af00; text-decoration-color: #00af00\">101,770</span> (397.54 KB)\n",
       "</pre>\n"
      ],
      "text/plain": [
       "\u001b[1m Trainable params: \u001b[0m\u001b[38;5;34m101,770\u001b[0m (397.54 KB)\n"
      ]
     },
     "metadata": {},
     "output_type": "display_data"
    },
    {
     "data": {
      "text/html": [
       "<pre style=\"white-space:pre;overflow-x:auto;line-height:normal;font-family:Menlo,'DejaVu Sans Mono',consolas,'Courier New',monospace\"><span style=\"font-weight: bold\"> Non-trainable params: </span><span style=\"color: #00af00; text-decoration-color: #00af00\">0</span> (0.00 B)\n",
       "</pre>\n"
      ],
      "text/plain": [
       "\u001b[1m Non-trainable params: \u001b[0m\u001b[38;5;34m0\u001b[0m (0.00 B)\n"
      ]
     },
     "metadata": {},
     "output_type": "display_data"
    }
   ],
   "source": [
    "model = probability_model\n",
    "model.save('models/custom_model.keras')\n",
    "model.summary()"
   ]
  },
  {
   "cell_type": "markdown",
   "metadata": {},
   "source": [
    "## Reload and Compile Model"
   ]
  },
  {
   "cell_type": "code",
   "execution_count": 173,
   "metadata": {},
   "outputs": [
    {
     "data": {
      "text/html": [
       "<pre style=\"white-space:pre;overflow-x:auto;line-height:normal;font-family:Menlo,'DejaVu Sans Mono',consolas,'Courier New',monospace\"><span style=\"font-weight: bold\">Model: \"sequential_1\"</span>\n",
       "</pre>\n"
      ],
      "text/plain": [
       "\u001b[1mModel: \"sequential_1\"\u001b[0m\n"
      ]
     },
     "metadata": {},
     "output_type": "display_data"
    },
    {
     "data": {
      "text/html": [
       "<pre style=\"white-space:pre;overflow-x:auto;line-height:normal;font-family:Menlo,'DejaVu Sans Mono',consolas,'Courier New',monospace\">┏━━━━━━━━━━━━━━━━━━━━━━━━━━━━━━━━━┳━━━━━━━━━━━━━━━━━━━━━━━━┳━━━━━━━━━━━━━━━┓\n",
       "┃<span style=\"font-weight: bold\"> Layer (type)                    </span>┃<span style=\"font-weight: bold\"> Output Shape           </span>┃<span style=\"font-weight: bold\">       Param # </span>┃\n",
       "┡━━━━━━━━━━━━━━━━━━━━━━━━━━━━━━━━━╇━━━━━━━━━━━━━━━━━━━━━━━━╇━━━━━━━━━━━━━━━┩\n",
       "│ sequential (<span style=\"color: #0087ff; text-decoration-color: #0087ff\">Sequential</span>)         │ (<span style=\"color: #00d7ff; text-decoration-color: #00d7ff\">None</span>, <span style=\"color: #00af00; text-decoration-color: #00af00\">10</span>)             │       <span style=\"color: #00af00; text-decoration-color: #00af00\">101,770</span> │\n",
       "├─────────────────────────────────┼────────────────────────┼───────────────┤\n",
       "│ softmax (<span style=\"color: #0087ff; text-decoration-color: #0087ff\">Softmax</span>)               │ (<span style=\"color: #00d7ff; text-decoration-color: #00d7ff\">None</span>, <span style=\"color: #00af00; text-decoration-color: #00af00\">10</span>)             │             <span style=\"color: #00af00; text-decoration-color: #00af00\">0</span> │\n",
       "└─────────────────────────────────┴────────────────────────┴───────────────┘\n",
       "</pre>\n"
      ],
      "text/plain": [
       "┏━━━━━━━━━━━━━━━━━━━━━━━━━━━━━━━━━┳━━━━━━━━━━━━━━━━━━━━━━━━┳━━━━━━━━━━━━━━━┓\n",
       "┃\u001b[1m \u001b[0m\u001b[1mLayer (type)                   \u001b[0m\u001b[1m \u001b[0m┃\u001b[1m \u001b[0m\u001b[1mOutput Shape          \u001b[0m\u001b[1m \u001b[0m┃\u001b[1m \u001b[0m\u001b[1m      Param #\u001b[0m\u001b[1m \u001b[0m┃\n",
       "┡━━━━━━━━━━━━━━━━━━━━━━━━━━━━━━━━━╇━━━━━━━━━━━━━━━━━━━━━━━━╇━━━━━━━━━━━━━━━┩\n",
       "│ sequential (\u001b[38;5;33mSequential\u001b[0m)         │ (\u001b[38;5;45mNone\u001b[0m, \u001b[38;5;34m10\u001b[0m)             │       \u001b[38;5;34m101,770\u001b[0m │\n",
       "├─────────────────────────────────┼────────────────────────┼───────────────┤\n",
       "│ softmax (\u001b[38;5;33mSoftmax\u001b[0m)               │ (\u001b[38;5;45mNone\u001b[0m, \u001b[38;5;34m10\u001b[0m)             │             \u001b[38;5;34m0\u001b[0m │\n",
       "└─────────────────────────────────┴────────────────────────┴───────────────┘\n"
      ]
     },
     "metadata": {},
     "output_type": "display_data"
    },
    {
     "data": {
      "text/html": [
       "<pre style=\"white-space:pre;overflow-x:auto;line-height:normal;font-family:Menlo,'DejaVu Sans Mono',consolas,'Courier New',monospace\"><span style=\"font-weight: bold\"> Total params: </span><span style=\"color: #00af00; text-decoration-color: #00af00\">101,770</span> (397.54 KB)\n",
       "</pre>\n"
      ],
      "text/plain": [
       "\u001b[1m Total params: \u001b[0m\u001b[38;5;34m101,770\u001b[0m (397.54 KB)\n"
      ]
     },
     "metadata": {},
     "output_type": "display_data"
    },
    {
     "data": {
      "text/html": [
       "<pre style=\"white-space:pre;overflow-x:auto;line-height:normal;font-family:Menlo,'DejaVu Sans Mono',consolas,'Courier New',monospace\"><span style=\"font-weight: bold\"> Trainable params: </span><span style=\"color: #00af00; text-decoration-color: #00af00\">101,770</span> (397.54 KB)\n",
       "</pre>\n"
      ],
      "text/plain": [
       "\u001b[1m Trainable params: \u001b[0m\u001b[38;5;34m101,770\u001b[0m (397.54 KB)\n"
      ]
     },
     "metadata": {},
     "output_type": "display_data"
    },
    {
     "data": {
      "text/html": [
       "<pre style=\"white-space:pre;overflow-x:auto;line-height:normal;font-family:Menlo,'DejaVu Sans Mono',consolas,'Courier New',monospace\"><span style=\"font-weight: bold\"> Non-trainable params: </span><span style=\"color: #00af00; text-decoration-color: #00af00\">0</span> (0.00 B)\n",
       "</pre>\n"
      ],
      "text/plain": [
       "\u001b[1m Non-trainable params: \u001b[0m\u001b[38;5;34m0\u001b[0m (0.00 B)\n"
      ]
     },
     "metadata": {},
     "output_type": "display_data"
    }
   ],
   "source": [
    "restored_model = tf.keras.models.load_model('models/custom_model.keras')\n",
    "restored_model.summary()\n",
    "restored_model.compile(optimizer='adam',\n",
    "                       loss=tf.keras.losses.SparseCategoricalCrossentropy(from_logits=True),\n",
    "                       metrics=['accuracy'])"
   ]
  },
  {
   "cell_type": "markdown",
   "metadata": {},
   "source": [
    "## Evaluate Your Image"
   ]
  },
  {
   "cell_type": "markdown",
   "metadata": {},
   "source": [
    "### Import Your Image"
   ]
  },
  {
   "cell_type": "code",
   "execution_count": 228,
   "metadata": {},
   "outputs": [
    {
     "name": "stdout",
     "output_type": "stream",
     "text": [
      "<PIL.Image.Image image mode=L size=28x28 at 0x26F34886650>\n"
     ]
    }
   ],
   "source": [
    "from tensorflow.keras.preprocessing import image\n",
    "\n",
    "img_path = 'validation_images/Download.jpg'\n",
    "img = image.load_img(img_path, target_size=(28, 28), color_mode=\"grayscale\")\n",
    "print(img)"
   ]
  },
  {
   "cell_type": "code",
   "execution_count": 229,
   "metadata": {},
   "outputs": [
    {
     "data": {
      "image/png": "[encoded data removed]",
      "text/plain": [
       "<Figure size 640x480 with 1 Axes>"
      ]
     },
     "metadata": {},
     "output_type": "display_data"
    }
   ],
   "source": [
    "plt.imshow(img, cmap='gray')\n",
    "plt.axis('off')\n",
    "plt.show()"
   ]
  },
  {
   "cell_type": "markdown",
   "metadata": {},
   "source": [
    "### Convert to Numpy Array & Normalize"
   ]
  },
  {
   "cell_type": "code",
   "execution_count": 231,
   "metadata": {},
   "outputs": [
    {
     "name": "stdout",
     "output_type": "stream",
     "text": [
      "(28, 28, 1)\n",
      "(1, 28, 28, 1)\n"
     ]
    }
   ],
   "source": [
    "img_array = image.img_to_array(img)\n",
    "print(img_array.shape)\n",
    "img_array = np.expand_dims(img_array, axis=0)\n",
    "print(img_array.shape)"
   ]
  },
  {
   "cell_type": "code",
   "execution_count": 232,
   "metadata": {},
   "outputs": [
    {
     "name": "stdout",
     "output_type": "stream",
     "text": [
      "[[[[0.7921569 ]\n",
      "   [0.7921569 ]\n",
      "   [0.7921569 ]\n",
      "   [0.7921569 ]\n",
      "   [0.7921569 ]\n",
      "   [0.7921569 ]\n",
      "   [0.7921569 ]\n",
      "   [0.7921569 ]\n",
      "   [0.7921569 ]\n",
      "   [0.7921569 ]\n",
      "   [0.7921569 ]\n",
      "   [0.7921569 ]\n",
      "   [0.7921569 ]\n",
      "   [0.7921569 ]\n",
      "   [0.7921569 ]\n",
      "   [0.7921569 ]\n",
      "   [0.7921569 ]\n",
      "   [0.7921569 ]\n",
      "   [0.7921569 ]\n",
      "   [0.7921569 ]\n",
      "   [0.7921569 ]\n",
      "   [0.7921569 ]\n",
      "   [0.7921569 ]\n",
      "   [0.7921569 ]\n",
      "   [0.7921569 ]\n",
      "   [0.7921569 ]\n",
      "   [0.7921569 ]\n",
      "   [0.7921569 ]]\n",
      "\n",
      "  [[0.7921569 ]\n",
      "   [0.7921569 ]\n",
      "   [0.7921569 ]\n",
      "   [0.7921569 ]\n",
      "   [0.7921569 ]\n",
      "   [0.7921569 ]\n",
      "   [0.7921569 ]\n",
      "   [0.7921569 ]\n",
      "   [0.7921569 ]\n",
      "   [0.7921569 ]\n",
      "   [0.7921569 ]\n",
      "   [0.7921569 ]\n",
      "   [0.7921569 ]\n",
      "   [0.7921569 ]\n",
      "   [0.7921569 ]\n",
      "   [0.7921569 ]\n",
      "   [0.7921569 ]\n",
      "   [0.7921569 ]\n",
      "   [0.7921569 ]\n",
      "   [0.7921569 ]\n",
      "   [0.7921569 ]\n",
      "   [0.7921569 ]\n",
      "   [0.7921569 ]\n",
      "   [0.7921569 ]\n",
      "   [0.7921569 ]\n",
      "   [0.7921569 ]\n",
      "   [0.7921569 ]\n",
      "   [0.7921569 ]]\n",
      "\n",
      "  [[0.7921569 ]\n",
      "   [0.7921569 ]\n",
      "   [0.7921569 ]\n",
      "   [0.7921569 ]\n",
      "   [0.7921569 ]\n",
      "   [0.7921569 ]\n",
      "   [0.7921569 ]\n",
      "   [0.7921569 ]\n",
      "   [0.7921569 ]\n",
      "   [0.79607844]\n",
      "   [0.79607844]\n",
      "   [0.7921569 ]\n",
      "   [0.7921569 ]\n",
      "   [0.7921569 ]\n",
      "   [0.7921569 ]\n",
      "   [0.7921569 ]\n",
      "   [0.7921569 ]\n",
      "   [0.7921569 ]\n",
      "   [0.7921569 ]\n",
      "   [0.7921569 ]\n",
      "   [0.7921569 ]\n",
      "   [0.7921569 ]\n",
      "   [0.7921569 ]\n",
      "   [0.7921569 ]\n",
      "   [0.7921569 ]\n",
      "   [0.7921569 ]\n",
      "   [0.7921569 ]\n",
      "   [0.7921569 ]]\n",
      "\n",
      "  [[0.7921569 ]\n",
      "   [0.7921569 ]\n",
      "   [0.7921569 ]\n",
      "   [0.7921569 ]\n",
      "   [0.7921569 ]\n",
      "   [0.7921569 ]\n",
      "   [0.7921569 ]\n",
      "   [0.7921569 ]\n",
      "   [0.8039216 ]\n",
      "   [0.09803922]\n",
      "   [0.11764706]\n",
      "   [0.15686275]\n",
      "   [0.18431373]\n",
      "   [0.19607843]\n",
      "   [0.19215687]\n",
      "   [0.21960784]\n",
      "   [0.23137255]\n",
      "   [0.21568628]\n",
      "   [0.21568628]\n",
      "   [0.21176471]\n",
      "   [0.7921569 ]\n",
      "   [0.7921569 ]\n",
      "   [0.7921569 ]\n",
      "   [0.7921569 ]\n",
      "   [0.7921569 ]\n",
      "   [0.7921569 ]\n",
      "   [0.7921569 ]\n",
      "   [0.7921569 ]]\n",
      "\n",
      "  [[0.7921569 ]\n",
      "   [0.7921569 ]\n",
      "   [0.7921569 ]\n",
      "   [0.7921569 ]\n",
      "   [0.7921569 ]\n",
      "   [0.7921569 ]\n",
      "   [0.7921569 ]\n",
      "   [0.7921569 ]\n",
      "   [0.7882353 ]\n",
      "   [0.1254902 ]\n",
      "   [0.09803922]\n",
      "   [0.09803922]\n",
      "   [0.1882353 ]\n",
      "   [0.18039216]\n",
      "   [0.20392157]\n",
      "   [0.16470589]\n",
      "   [0.16862746]\n",
      "   [0.19607843]\n",
      "   [0.18431373]\n",
      "   [0.14509805]\n",
      "   [0.7921569 ]\n",
      "   [0.7921569 ]\n",
      "   [0.7921569 ]\n",
      "   [0.7921569 ]\n",
      "   [0.7921569 ]\n",
      "   [0.7921569 ]\n",
      "   [0.7921569 ]\n",
      "   [0.7921569 ]]\n",
      "\n",
      "  [[0.7921569 ]\n",
      "   [0.7921569 ]\n",
      "   [0.7921569 ]\n",
      "   [0.7921569 ]\n",
      "   [0.7921569 ]\n",
      "   [0.7921569 ]\n",
      "   [0.7921569 ]\n",
      "   [0.78431374]\n",
      "   [0.13333334]\n",
      "   [0.11764706]\n",
      "   [0.14901961]\n",
      "   [0.15686275]\n",
      "   [0.17254902]\n",
      "   [0.15686275]\n",
      "   [0.16470589]\n",
      "   [0.1764706 ]\n",
      "   [0.16078432]\n",
      "   [0.2       ]\n",
      "   [0.23137255]\n",
      "   [0.18431373]\n",
      "   [0.79607844]\n",
      "   [0.7921569 ]\n",
      "   [0.7921569 ]\n",
      "   [0.7921569 ]\n",
      "   [0.7921569 ]\n",
      "   [0.7921569 ]\n",
      "   [0.7921569 ]\n",
      "   [0.7921569 ]]\n",
      "\n",
      "  [[0.7921569 ]\n",
      "   [0.7921569 ]\n",
      "   [0.7921569 ]\n",
      "   [0.7921569 ]\n",
      "   [0.7921569 ]\n",
      "   [0.7921569 ]\n",
      "   [0.7921569 ]\n",
      "   [0.8       ]\n",
      "   [0.12156863]\n",
      "   [0.19215687]\n",
      "   [0.18431373]\n",
      "   [0.1882353 ]\n",
      "   [0.2       ]\n",
      "   [0.2       ]\n",
      "   [0.17254902]\n",
      "   [0.18039216]\n",
      "   [0.18039216]\n",
      "   [0.21568628]\n",
      "   [0.23529412]\n",
      "   [0.1764706 ]\n",
      "   [0.7921569 ]\n",
      "   [0.7921569 ]\n",
      "   [0.7921569 ]\n",
      "   [0.7921569 ]\n",
      "   [0.7921569 ]\n",
      "   [0.7921569 ]\n",
      "   [0.7921569 ]\n",
      "   [0.7921569 ]]\n",
      "\n",
      "  [[0.7921569 ]\n",
      "   [0.7921569 ]\n",
      "   [0.7921569 ]\n",
      "   [0.7921569 ]\n",
      "   [0.7921569 ]\n",
      "   [0.7921569 ]\n",
      "   [0.7921569 ]\n",
      "   [0.21568628]\n",
      "   [0.18039216]\n",
      "   [0.23137255]\n",
      "   [0.23137255]\n",
      "   [0.22352941]\n",
      "   [0.21960784]\n",
      "   [0.21568628]\n",
      "   [0.21568628]\n",
      "   [0.20392157]\n",
      "   [0.20392157]\n",
      "   [0.23921569]\n",
      "   [0.25490198]\n",
      "   [0.19215687]\n",
      "   [0.79607844]\n",
      "   [0.7921569 ]\n",
      "   [0.7921569 ]\n",
      "   [0.7921569 ]\n",
      "   [0.7921569 ]\n",
      "   [0.7921569 ]\n",
      "   [0.7921569 ]\n",
      "   [0.7921569 ]]\n",
      "\n",
      "  [[0.7921569 ]\n",
      "   [0.7921569 ]\n",
      "   [0.7921569 ]\n",
      "   [0.7921569 ]\n",
      "   [0.7921569 ]\n",
      "   [0.7921569 ]\n",
      "   [0.78431374]\n",
      "   [0.1764706 ]\n",
      "   [0.21960784]\n",
      "   [0.22745098]\n",
      "   [0.22745098]\n",
      "   [0.25882354]\n",
      "   [0.25882354]\n",
      "   [0.1764706 ]\n",
      "   [0.22352941]\n",
      "   [0.23529412]\n",
      "   [0.22745098]\n",
      "   [0.23921569]\n",
      "   [0.25882354]\n",
      "   [0.20392157]\n",
      "   [0.7921569 ]\n",
      "   [0.7921569 ]\n",
      "   [0.7921569 ]\n",
      "   [0.7921569 ]\n",
      "   [0.7921569 ]\n",
      "   [0.7921569 ]\n",
      "   [0.7921569 ]\n",
      "   [0.7921569 ]]\n",
      "\n",
      "  [[0.7921569 ]\n",
      "   [0.7921569 ]\n",
      "   [0.7921569 ]\n",
      "   [0.7921569 ]\n",
      "   [0.7921569 ]\n",
      "   [0.7921569 ]\n",
      "   [0.76862746]\n",
      "   [0.14901961]\n",
      "   [0.21176471]\n",
      "   [0.23529412]\n",
      "   [0.23529412]\n",
      "   [0.23921569]\n",
      "   [0.81960785]\n",
      "   [0.18431373]\n",
      "   [0.21568628]\n",
      "   [0.23921569]\n",
      "   [0.24705882]\n",
      "   [0.23137255]\n",
      "   [0.23137255]\n",
      "   [0.14117648]\n",
      "   [0.7921569 ]\n",
      "   [0.7921569 ]\n",
      "   [0.7921569 ]\n",
      "   [0.7921569 ]\n",
      "   [0.7921569 ]\n",
      "   [0.7921569 ]\n",
      "   [0.7921569 ]\n",
      "   [0.7921569 ]]\n",
      "\n",
      "  [[0.7921569 ]\n",
      "   [0.7921569 ]\n",
      "   [0.7921569 ]\n",
      "   [0.7921569 ]\n",
      "   [0.7921569 ]\n",
      "   [0.7921569 ]\n",
      "   [0.81960785]\n",
      "   [0.16862746]\n",
      "   [0.21960784]\n",
      "   [0.23529412]\n",
      "   [0.23921569]\n",
      "   [0.2784314 ]\n",
      "   [0.7921569 ]\n",
      "   [0.09803922]\n",
      "   [0.17254902]\n",
      "   [0.23921569]\n",
      "   [0.24705882]\n",
      "   [0.22745098]\n",
      "   [0.22745098]\n",
      "   [0.8156863 ]\n",
      "   [0.7921569 ]\n",
      "   [0.7921569 ]\n",
      "   [0.7921569 ]\n",
      "   [0.7921569 ]\n",
      "   [0.7921569 ]\n",
      "   [0.7921569 ]\n",
      "   [0.7921569 ]\n",
      "   [0.7921569 ]]\n",
      "\n",
      "  [[0.7921569 ]\n",
      "   [0.7921569 ]\n",
      "   [0.7921569 ]\n",
      "   [0.7921569 ]\n",
      "   [0.7921569 ]\n",
      "   [0.7921569 ]\n",
      "   [0.47058824]\n",
      "   [0.19215687]\n",
      "   [0.23921569]\n",
      "   [0.23921569]\n",
      "   [0.23921569]\n",
      "   [0.7882353 ]\n",
      "   [0.7921569 ]\n",
      "   [0.78431374]\n",
      "   [0.14117648]\n",
      "   [0.24313726]\n",
      "   [0.2509804 ]\n",
      "   [0.23921569]\n",
      "   [0.22745098]\n",
      "   [0.79607844]\n",
      "   [0.7921569 ]\n",
      "   [0.7921569 ]\n",
      "   [0.7921569 ]\n",
      "   [0.7921569 ]\n",
      "   [0.7921569 ]\n",
      "   [0.7921569 ]\n",
      "   [0.7921569 ]\n",
      "   [0.7921569 ]]\n",
      "\n",
      "  [[0.7921569 ]\n",
      "   [0.7921569 ]\n",
      "   [0.7921569 ]\n",
      "   [0.7921569 ]\n",
      "   [0.7921569 ]\n",
      "   [0.7921569 ]\n",
      "   [0.0627451 ]\n",
      "   [0.21960784]\n",
      "   [0.24705882]\n",
      "   [0.22352941]\n",
      "   [0.22745098]\n",
      "   [0.7607843 ]\n",
      "   [0.7921569 ]\n",
      "   [0.7882353 ]\n",
      "   [0.1254902 ]\n",
      "   [0.25882354]\n",
      "   [0.25882354]\n",
      "   [0.23921569]\n",
      "   [0.22352941]\n",
      "   [0.7921569 ]\n",
      "   [0.7921569 ]\n",
      "   [0.7921569 ]\n",
      "   [0.7921569 ]\n",
      "   [0.7921569 ]\n",
      "   [0.7921569 ]\n",
      "   [0.7921569 ]\n",
      "   [0.7921569 ]\n",
      "   [0.7921569 ]]\n",
      "\n",
      "  [[0.7921569 ]\n",
      "   [0.7921569 ]\n",
      "   [0.7921569 ]\n",
      "   [0.7921569 ]\n",
      "   [0.7921569 ]\n",
      "   [0.79607844]\n",
      "   [0.17254902]\n",
      "   [0.25882354]\n",
      "   [0.24313726]\n",
      "   [0.21176471]\n",
      "   [0.29411766]\n",
      "   [0.7921569 ]\n",
      "   [0.7921569 ]\n",
      "   [0.79607844]\n",
      "   [0.12156863]\n",
      "   [0.21960784]\n",
      "   [0.2509804 ]\n",
      "   [0.23529412]\n",
      "   [0.21568628]\n",
      "   [0.7764706 ]\n",
      "   [0.7921569 ]\n",
      "   [0.7921569 ]\n",
      "   [0.7921569 ]\n",
      "   [0.7921569 ]\n",
      "   [0.7921569 ]\n",
      "   [0.7921569 ]\n",
      "   [0.7921569 ]\n",
      "   [0.7921569 ]]\n",
      "\n",
      "  [[0.7921569 ]\n",
      "   [0.7921569 ]\n",
      "   [0.7921569 ]\n",
      "   [0.7921569 ]\n",
      "   [0.7921569 ]\n",
      "   [0.8039216 ]\n",
      "   [0.12156863]\n",
      "   [0.21960784]\n",
      "   [0.21960784]\n",
      "   [0.20392157]\n",
      "   [0.827451  ]\n",
      "   [0.7921569 ]\n",
      "   [0.7921569 ]\n",
      "   [0.7921569 ]\n",
      "   [0.04313726]\n",
      "   [0.20784314]\n",
      "   [0.24313726]\n",
      "   [0.21960784]\n",
      "   [0.1882353 ]\n",
      "   [0.79607844]\n",
      "   [0.7921569 ]\n",
      "   [0.7921569 ]\n",
      "   [0.7921569 ]\n",
      "   [0.7921569 ]\n",
      "   [0.7921569 ]\n",
      "   [0.7921569 ]\n",
      "   [0.7921569 ]\n",
      "   [0.7921569 ]]\n",
      "\n",
      "  [[0.7921569 ]\n",
      "   [0.7921569 ]\n",
      "   [0.7921569 ]\n",
      "   [0.7921569 ]\n",
      "   [0.7921569 ]\n",
      "   [0.79607844]\n",
      "   [0.12941177]\n",
      "   [0.22745098]\n",
      "   [0.21960784]\n",
      "   [0.19215687]\n",
      "   [0.7882353 ]\n",
      "   [0.7921569 ]\n",
      "   [0.7921569 ]\n",
      "   [0.7921569 ]\n",
      "   [0.4745098 ]\n",
      "   [0.1882353 ]\n",
      "   [0.23137255]\n",
      "   [0.19607843]\n",
      "   [0.18431373]\n",
      "   [0.7921569 ]\n",
      "   [0.7921569 ]\n",
      "   [0.7921569 ]\n",
      "   [0.7921569 ]\n",
      "   [0.7921569 ]\n",
      "   [0.7921569 ]\n",
      "   [0.7921569 ]\n",
      "   [0.7921569 ]\n",
      "   [0.7921569 ]]\n",
      "\n",
      "  [[0.7921569 ]\n",
      "   [0.7921569 ]\n",
      "   [0.7921569 ]\n",
      "   [0.7921569 ]\n",
      "   [0.7921569 ]\n",
      "   [0.79607844]\n",
      "   [0.1254902 ]\n",
      "   [0.21960784]\n",
      "   [0.21960784]\n",
      "   [0.18431373]\n",
      "   [0.827451  ]\n",
      "   [0.7921569 ]\n",
      "   [0.7921569 ]\n",
      "   [0.7921569 ]\n",
      "   [0.80784315]\n",
      "   [0.18039216]\n",
      "   [0.21960784]\n",
      "   [0.19607843]\n",
      "   [0.16862746]\n",
      "   [0.7921569 ]\n",
      "   [0.7921569 ]\n",
      "   [0.7921569 ]\n",
      "   [0.7921569 ]\n",
      "   [0.7921569 ]\n",
      "   [0.7921569 ]\n",
      "   [0.7921569 ]\n",
      "   [0.7921569 ]\n",
      "   [0.7921569 ]]\n",
      "\n",
      "  [[0.7921569 ]\n",
      "   [0.7921569 ]\n",
      "   [0.7921569 ]\n",
      "   [0.7921569 ]\n",
      "   [0.7921569 ]\n",
      "   [0.7921569 ]\n",
      "   [0.13333334]\n",
      "   [0.20784314]\n",
      "   [0.20392157]\n",
      "   [0.21176471]\n",
      "   [0.41960785]\n",
      "   [0.7921569 ]\n",
      "   [0.7921569 ]\n",
      "   [0.7921569 ]\n",
      "   [0.81960785]\n",
      "   [0.16470589]\n",
      "   [0.20784314]\n",
      "   [0.18431373]\n",
      "   [0.14117648]\n",
      "   [0.7921569 ]\n",
      "   [0.7921569 ]\n",
      "   [0.7921569 ]\n",
      "   [0.7921569 ]\n",
      "   [0.7921569 ]\n",
      "   [0.7921569 ]\n",
      "   [0.7921569 ]\n",
      "   [0.7921569 ]\n",
      "   [0.7921569 ]]\n",
      "\n",
      "  [[0.7921569 ]\n",
      "   [0.7921569 ]\n",
      "   [0.7921569 ]\n",
      "   [0.7921569 ]\n",
      "   [0.7921569 ]\n",
      "   [0.7921569 ]\n",
      "   [0.1254902 ]\n",
      "   [0.20784314]\n",
      "   [0.20392157]\n",
      "   [0.19607843]\n",
      "   [0.8352941 ]\n",
      "   [0.7921569 ]\n",
      "   [0.7921569 ]\n",
      "   [0.7921569 ]\n",
      "   [0.77254903]\n",
      "   [0.14117648]\n",
      "   [0.20784314]\n",
      "   [0.16862746]\n",
      "   [0.10588235]\n",
      "   [0.7921569 ]\n",
      "   [0.7921569 ]\n",
      "   [0.7921569 ]\n",
      "   [0.7921569 ]\n",
      "   [0.7921569 ]\n",
      "   [0.7921569 ]\n",
      "   [0.7921569 ]\n",
      "   [0.7921569 ]\n",
      "   [0.7921569 ]]\n",
      "\n",
      "  [[0.7921569 ]\n",
      "   [0.7921569 ]\n",
      "   [0.7921569 ]\n",
      "   [0.7921569 ]\n",
      "   [0.7921569 ]\n",
      "   [0.7921569 ]\n",
      "   [0.0627451 ]\n",
      "   [0.1882353 ]\n",
      "   [0.1882353 ]\n",
      "   [0.22745098]\n",
      "   [0.8       ]\n",
      "   [0.7921569 ]\n",
      "   [0.7921569 ]\n",
      "   [0.7921569 ]\n",
      "   [0.83137256]\n",
      "   [0.14509805]\n",
      "   [0.1882353 ]\n",
      "   [0.18039216]\n",
      "   [0.08627451]\n",
      "   [0.7921569 ]\n",
      "   [0.7921569 ]\n",
      "   [0.7921569 ]\n",
      "   [0.7921569 ]\n",
      "   [0.7921569 ]\n",
      "   [0.7921569 ]\n",
      "   [0.7921569 ]\n",
      "   [0.7921569 ]\n",
      "   [0.7921569 ]]\n",
      "\n",
      "  [[0.7921569 ]\n",
      "   [0.7921569 ]\n",
      "   [0.7921569 ]\n",
      "   [0.7921569 ]\n",
      "   [0.7921569 ]\n",
      "   [0.7921569 ]\n",
      "   [0.05098039]\n",
      "   [0.18431373]\n",
      "   [0.18431373]\n",
      "   [0.20784314]\n",
      "   [0.69411767]\n",
      "   [0.7921569 ]\n",
      "   [0.7921569 ]\n",
      "   [0.7921569 ]\n",
      "   [0.03921569]\n",
      "   [0.13333334]\n",
      "   [0.16862746]\n",
      "   [0.17254902]\n",
      "   [0.23921569]\n",
      "   [0.7921569 ]\n",
      "   [0.7921569 ]\n",
      "   [0.7921569 ]\n",
      "   [0.7921569 ]\n",
      "   [0.7921569 ]\n",
      "   [0.7921569 ]\n",
      "   [0.7921569 ]\n",
      "   [0.7921569 ]\n",
      "   [0.7921569 ]]\n",
      "\n",
      "  [[0.7921569 ]\n",
      "   [0.7921569 ]\n",
      "   [0.7921569 ]\n",
      "   [0.7921569 ]\n",
      "   [0.7921569 ]\n",
      "   [0.7921569 ]\n",
      "   [0.61960787]\n",
      "   [0.1764706 ]\n",
      "   [0.18431373]\n",
      "   [0.18039216]\n",
      "   [0.64705884]\n",
      "   [0.7921569 ]\n",
      "   [0.7921569 ]\n",
      "   [0.79607844]\n",
      "   [0.05882353]\n",
      "   [0.14117648]\n",
      "   [0.15686275]\n",
      "   [0.15686275]\n",
      "   [0.8235294 ]\n",
      "   [0.7921569 ]\n",
      "   [0.7921569 ]\n",
      "   [0.7921569 ]\n",
      "   [0.7921569 ]\n",
      "   [0.7921569 ]\n",
      "   [0.7921569 ]\n",
      "   [0.7921569 ]\n",
      "   [0.7921569 ]\n",
      "   [0.7921569 ]]\n",
      "\n",
      "  [[0.7921569 ]\n",
      "   [0.7921569 ]\n",
      "   [0.7921569 ]\n",
      "   [0.7921569 ]\n",
      "   [0.7921569 ]\n",
      "   [0.7921569 ]\n",
      "   [0.8       ]\n",
      "   [0.16470589]\n",
      "   [0.17254902]\n",
      "   [0.16862746]\n",
      "   [0.80784315]\n",
      "   [0.7921569 ]\n",
      "   [0.7921569 ]\n",
      "   [0.7921569 ]\n",
      "   [0.09019608]\n",
      "   [0.12941177]\n",
      "   [0.17254902]\n",
      "   [0.12156863]\n",
      "   [0.8156863 ]\n",
      "   [0.7921569 ]\n",
      "   [0.7921569 ]\n",
      "   [0.7921569 ]\n",
      "   [0.7921569 ]\n",
      "   [0.7921569 ]\n",
      "   [0.7921569 ]\n",
      "   [0.7921569 ]\n",
      "   [0.7921569 ]\n",
      "   [0.7921569 ]]\n",
      "\n",
      "  [[0.7921569 ]\n",
      "   [0.7921569 ]\n",
      "   [0.7921569 ]\n",
      "   [0.7921569 ]\n",
      "   [0.7921569 ]\n",
      "   [0.7921569 ]\n",
      "   [0.67058825]\n",
      "   [0.16078432]\n",
      "   [0.1764706 ]\n",
      "   [0.14509805]\n",
      "   [0.73333335]\n",
      "   [0.7921569 ]\n",
      "   [0.7921569 ]\n",
      "   [0.7921569 ]\n",
      "   [0.12941177]\n",
      "   [0.13333334]\n",
      "   [0.2       ]\n",
      "   [0.1764706 ]\n",
      "   [0.7764706 ]\n",
      "   [0.7921569 ]\n",
      "   [0.7921569 ]\n",
      "   [0.7921569 ]\n",
      "   [0.7921569 ]\n",
      "   [0.7921569 ]\n",
      "   [0.7921569 ]\n",
      "   [0.7921569 ]\n",
      "   [0.7921569 ]\n",
      "   [0.7921569 ]]\n",
      "\n",
      "  [[0.7921569 ]\n",
      "   [0.7921569 ]\n",
      "   [0.7921569 ]\n",
      "   [0.7921569 ]\n",
      "   [0.7921569 ]\n",
      "   [0.7921569 ]\n",
      "   [0.7921569 ]\n",
      "   [0.79607844]\n",
      "   [0.7529412 ]\n",
      "   [0.7921569 ]\n",
      "   [0.7921569 ]\n",
      "   [0.7921569 ]\n",
      "   [0.7921569 ]\n",
      "   [0.7921569 ]\n",
      "   [0.7921569 ]\n",
      "   [0.7921569 ]\n",
      "   [0.7921569 ]\n",
      "   [0.79607844]\n",
      "   [0.7921569 ]\n",
      "   [0.7921569 ]\n",
      "   [0.7921569 ]\n",
      "   [0.7921569 ]\n",
      "   [0.7921569 ]\n",
      "   [0.7921569 ]\n",
      "   [0.7921569 ]\n",
      "   [0.7921569 ]\n",
      "   [0.7921569 ]\n",
      "   [0.7921569 ]]\n",
      "\n",
      "  [[0.7921569 ]\n",
      "   [0.7921569 ]\n",
      "   [0.7921569 ]\n",
      "   [0.7921569 ]\n",
      "   [0.7921569 ]\n",
      "   [0.7921569 ]\n",
      "   [0.7921569 ]\n",
      "   [0.7921569 ]\n",
      "   [0.7921569 ]\n",
      "   [0.7921569 ]\n",
      "   [0.7921569 ]\n",
      "   [0.7921569 ]\n",
      "   [0.7921569 ]\n",
      "   [0.7921569 ]\n",
      "   [0.7921569 ]\n",
      "   [0.7921569 ]\n",
      "   [0.7921569 ]\n",
      "   [0.7921569 ]\n",
      "   [0.7921569 ]\n",
      "   [0.7921569 ]\n",
      "   [0.7921569 ]\n",
      "   [0.7921569 ]\n",
      "   [0.7921569 ]\n",
      "   [0.7921569 ]\n",
      "   [0.7921569 ]\n",
      "   [0.7921569 ]\n",
      "   [0.7921569 ]\n",
      "   [0.7921569 ]]\n",
      "\n",
      "  [[0.7921569 ]\n",
      "   [0.7921569 ]\n",
      "   [0.7921569 ]\n",
      "   [0.7921569 ]\n",
      "   [0.7921569 ]\n",
      "   [0.7921569 ]\n",
      "   [0.7921569 ]\n",
      "   [0.7921569 ]\n",
      "   [0.7921569 ]\n",
      "   [0.7921569 ]\n",
      "   [0.7921569 ]\n",
      "   [0.7921569 ]\n",
      "   [0.7921569 ]\n",
      "   [0.7921569 ]\n",
      "   [0.7921569 ]\n",
      "   [0.7921569 ]\n",
      "   [0.7921569 ]\n",
      "   [0.7921569 ]\n",
      "   [0.7921569 ]\n",
      "   [0.7921569 ]\n",
      "   [0.7921569 ]\n",
      "   [0.7921569 ]\n",
      "   [0.7921569 ]\n",
      "   [0.7921569 ]\n",
      "   [0.7921569 ]\n",
      "   [0.7921569 ]\n",
      "   [0.7921569 ]\n",
      "   [0.7921569 ]]\n",
      "\n",
      "  [[0.7921569 ]\n",
      "   [0.7921569 ]\n",
      "   [0.7921569 ]\n",
      "   [0.7921569 ]\n",
      "   [0.7921569 ]\n",
      "   [0.7921569 ]\n",
      "   [0.7921569 ]\n",
      "   [0.7921569 ]\n",
      "   [0.7921569 ]\n",
      "   [0.7921569 ]\n",
      "   [0.7921569 ]\n",
      "   [0.7921569 ]\n",
      "   [0.7921569 ]\n",
      "   [0.7921569 ]\n",
      "   [0.7921569 ]\n",
      "   [0.7921569 ]\n",
      "   [0.7921569 ]\n",
      "   [0.7921569 ]\n",
      "   [0.7921569 ]\n",
      "   [0.7921569 ]\n",
      "   [0.7921569 ]\n",
      "   [0.7921569 ]\n",
      "   [0.7921569 ]\n",
      "   [0.7921569 ]\n",
      "   [0.7921569 ]\n",
      "   [0.7921569 ]\n",
      "   [0.7921569 ]\n",
      "   [0.7921569 ]]]]\n"
     ]
    }
   ],
   "source": [
    "img_array = img_array.astype('float32')\n",
    "img_array = img_array / 255\n",
    "print(img_array)"
   ]
  },
  {
   "cell_type": "markdown",
   "metadata": {},
   "source": [
    "### Prediction"
   ]
  },
  {
   "cell_type": "code",
   "execution_count": 233,
   "metadata": {},
   "outputs": [
    {
     "name": "stdout",
     "output_type": "stream",
     "text": [
      "Shape of input: (1, 28, 28, 1)\n",
      "Shape of restored model: (None, 28, 28, 1)\n",
      "\u001b[1m313/313\u001b[0m \u001b[32m━━━━━━━━━━━━━━━━━━━━\u001b[0m\u001b[37m\u001b[0m \u001b[1m1s\u001b[0m 2ms/step\n",
      "Predicted class: Pullover\n"
     ]
    }
   ],
   "source": [
    "print(\"Shape of input:\", img_array.shape) \n",
    "print(\"Shape of restored model:\", restored_model.input_shape)\n",
    "\n",
    "predictions = restored_model.predict(img_array)\n",
    "\n",
    "predicted_class = np.argmax(predictions, axis=1)\n",
    "print(f\"Predicted class: {class_names[predicted_class[20]]}\")"
   ]
  },
  {
   "cell_type": "markdown",
   "metadata": {},
   "source": [
    "## Draw Your Result"
   ]
  },
  {
   "cell_type": "code",
   "execution_count": 234,
   "metadata": {},
   "outputs": [
    {
     "data": {
      "image/png": "[encoded data removed]",
      "text/plain": [
       "<Figure size 600x300 with 2 Axes>"
      ]
     },
     "metadata": {},
     "output_type": "display_data"
    }
   ],
   "source": [
    "plt.figure(figsize=(6,3))\n",
    "plt.subplot(1, 2, 1) \n",
    "plt.imshow(img_array.squeeze(), cmap='gray')\n",
    "plt.title(img_path) \n",
    "plt.subplot(1, 2, 2) \n",
    "plt.imshow(img_array.squeeze(), cmap='gray')\n",
    "plt.show()"
   ]
  }
 ],
 "metadata": {
  "kernelspec": {
   "display_name": "env",
   "language": "python",
   "name": "python3"
  },
  "language_info": {
   "codemirror_mode": {
    "name": "ipython",
    "version": 3
   },
   "file_extension": ".py",
   "mimetype": "text/x-python",
   "name": "python",
   "nbconvert_exporter": "python",
   "pygments_lexer": "ipython3",
   "version": "3.11.9"
  }
 },
 "nbformat": 4,
 "nbformat_minor": 2
}
